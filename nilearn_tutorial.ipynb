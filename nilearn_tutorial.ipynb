{
 "cells": [
  {
   "cell_type": "code",
   "execution_count": null,
   "metadata": {
    "collapsed": true
   },
   "outputs": [],
   "source": [
    "from nilearn import plotting\n",
    "from nilearn import image\n",
    "import nilearn\n",
    "# rsn = '/Users/siyuangao/Working_Space/fmri/data/ABIDE/ABIDE_pcp/cpac/nofilt_noglobal/Pitt_0050003_func_preproc.nii'\n",
    "# first_rsn = image.index_img(rsn, 0)\n",
    "# plotting.plot_stat_map(first_rsn)\n",
    "print(image.load_img('/Users/siyuangao/Working_Space/fmri/data/ABIDE/ABIDE_pcp/cpac/nofilt_noglobal/Pitt_0050003_func_preproc.nii').shape)\n",
    "# plotting.plot_img('/Users/siyuangao/Working_Space/fmri/data/ABIDE/ABIDE_pcp/cpac/nofilt_noglobal/Pitt_0050003_func_preproc.nii')\n",
    "# for img in image.iter_img(rsn):\n",
    "#     # img is now an in-memory 3D img\n",
    "#     plotting.plot_stat_map(img, threshold=3, display_mode=\"z\", cut_coords=1,\n",
    "#                            colorbar=False)"
   ]
  },
  {
   "cell_type": "code",
   "execution_count": null,
   "metadata": {
    "collapsed": true
   },
   "outputs": [],
   "source": [
    "from nilearn import datasets\n",
    "dataset = datasets.fetch_atlas_harvard_oxford('sub-maxprob-thr50-2mm')\n",
    "atlas_filename = dataset.maps\n",
    "labels = dataset.labels\n",
    "print(len(labels))\n",
    "print(labels)\n",
    "from nilearn import plotting\n",
    "plotting.plot_roi(atlas_filename)"
   ]
  },
  {
   "cell_type": "code",
   "execution_count": null,
   "metadata": {
    "collapsed": true
   },
   "outputs": [],
   "source": [
    "from nilearn.input_data import NiftiLabelsMasker\n",
    "masker = NiftiLabelsMasker(labels_img=atlas_filename, standardize=True)\n",
    "time_series = masker.fit_transform(rsn)"
   ]
  }
 ],
 "metadata": {
  "anaconda-cloud": {},
  "kernelspec": {
   "display_name": "Python 3",
   "language": "python",
   "name": "python3"
  },
  "language_info": {
   "codemirror_mode": {
    "name": "ipython",
    "version": 3
   },
   "file_extension": ".py",
   "mimetype": "text/x-python",
   "name": "python",
   "nbconvert_exporter": "python",
   "pygments_lexer": "ipython3",
   "version": "3.6.2"
  }
 },
 "nbformat": 4,
 "nbformat_minor": 2
}
